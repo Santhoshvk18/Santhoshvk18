{
 "cells": [
  {
   "cell_type": "code",
   "execution_count": null,
   "metadata": {
    "colab": {
     "base_uri": "https://localhost:8080/"
    },
    "id": "0J_1MVorN34H",
    "outputId": "711e0da2-1b69-48c4-c0d1-ce875c8a4143"
   },
   "outputs": [
    {
     "name": "stdout",
     "output_type": "stream",
     "text": [
      "enter apple value:50\n",
      "give it to neighbours \n"
     ]
    }
   ],
   "source": [
    "apple = int(input(\"enter apple value:\"))\n",
    "\n",
    "if apple < 90 :\n",
    "  print(\"give it to neighbours \")\n",
    "elif apple == 50:\n",
    "  print(\"give half\")\n",
    "else:\n",
    "  print(\"dont give\")"
   ]
  },
  {
   "cell_type": "code",
   "execution_count": null,
   "metadata": {
    "id": "OYIf_7v6RnWu"
   },
   "outputs": [],
   "source": [
    "a = 100 # a is assigned to 100"
   ]
  },
  {
   "cell_type": "code",
   "execution_count": null,
   "metadata": {
    "colab": {
     "base_uri": "https://localhost:8080/"
    },
    "id": "COaGrp9LRtNF",
    "outputId": "71e0b7aa-c78c-4ce7-dc43-1004fbdef576"
   },
   "outputs": [
    {
     "data": {
      "text/plain": [
       "False"
      ]
     },
     "execution_count": 9,
     "metadata": {},
     "output_type": "execute_result"
    }
   ],
   "source": [
    "a == 25 #(is a is 25 or not) (introgative stmts)"
   ]
  },
  {
   "cell_type": "markdown",
   "metadata": {
    "id": "Jv2J8NxCP2PB"
   },
   "source": [
    "conditional statements \n",
    "\n",
    "---------------------\n",
    "\n",
    "syntax:\n",
    " if (main condition):\n",
    "  ...........\n",
    " elif (condition 1):\n",
    "   ........\n",
    " elif (cond 2):\n",
    "    ..................\n",
    " else:\n",
    "    ........\n"
   ]
  },
  {
   "cell_type": "code",
   "execution_count": null,
   "metadata": {
    "id": "jHDlzVI9RBQ2"
   },
   "outputs": [],
   "source": []
  }
 ],
 "metadata": {
  "colab": {
   "provenance": []
  },
  "kernelspec": {
   "display_name": "Python 3 (ipykernel)",
   "language": "python",
   "name": "python3"
  },
  "language_info": {
   "codemirror_mode": {
    "name": "ipython",
    "version": 3
   },
   "file_extension": ".py",
   "mimetype": "text/x-python",
   "name": "python",
   "nbconvert_exporter": "python",
   "pygments_lexer": "ipython3",
   "version": "3.9.12"
  }
 },
 "nbformat": 4,
 "nbformat_minor": 1
}
