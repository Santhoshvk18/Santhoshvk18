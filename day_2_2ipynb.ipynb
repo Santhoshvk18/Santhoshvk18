{
  "nbformat": 4,
  "nbformat_minor": 0,
  "metadata": {
    "colab": {
      "provenance": []
    },
    "kernelspec": {
      "name": "python3",
      "display_name": "Python 3"
    },
    "language_info": {
      "name": "python"
    }
  },
  "cells": [
    {
      "cell_type": "code",
      "execution_count": null,
      "metadata": {
        "colab": {
          "base_uri": "https://localhost:8080/"
        },
        "id": "Y_5rwjsGb-KC",
        "outputId": "ab3beff7-48a7-4044-e137-417c964cc26a"
      },
      "outputs": [
        {
          "output_type": "stream",
          "name": "stdout",
          "text": [
            "hello world   !\n"
          ]
        }
      ],
      "source": [
        "#this is my day one in python\n",
        "print(\"hello world   !\")"
      ]
    },
    {
      "cell_type": "markdown",
      "source": [
        "DATA TYPES"
      ],
      "metadata": {
        "id": "qpN3AsGvf7lv"
      }
    },
    {
      "cell_type": "code",
      "source": [
        "a  = True"
      ],
      "metadata": {
        "id": "fLxq11UMe9Lc"
      },
      "execution_count": null,
      "outputs": []
    },
    {
      "cell_type": "code",
      "source": [
        "b = 6+5j"
      ],
      "metadata": {
        "id": "TjciMtCuhpUF"
      },
      "execution_count": null,
      "outputs": []
    },
    {
      "cell_type": "code",
      "source": [
        "type(b)"
      ],
      "metadata": {
        "colab": {
          "base_uri": "https://localhost:8080/"
        },
        "id": "V2MGKKE7hHo_",
        "outputId": "5495fb9f-d89c-45eb-f217-bdcab38547d4"
      },
      "execution_count": null,
      "outputs": [
        {
          "output_type": "execute_result",
          "data": {
            "text/plain": [
              "complex"
            ]
          },
          "metadata": {},
          "execution_count": 15
        }
      ]
    },
    {
      "cell_type": "code",
      "source": [],
      "metadata": {
        "id": "hfmPEkdxhzyJ"
      },
      "execution_count": null,
      "outputs": []
    },
    {
      "cell_type": "code",
      "source": [
        "a #calling a object or referencing a value"
      ],
      "metadata": {
        "colab": {
          "base_uri": "https://localhost:8080/"
        },
        "id": "IpBQuVGegzEV",
        "outputId": "1904b949-fd25-48bd-98c4-c6b7417a00f0"
      },
      "execution_count": null,
      "outputs": [
        {
          "output_type": "execute_result",
          "data": {
            "text/plain": [
              "100"
            ]
          },
          "metadata": {},
          "execution_count": 5
        }
      ]
    },
    {
      "cell_type": "code",
      "source": [
        "a = 130 # variable declaration\n",
        "\n",
        "\n"
      ],
      "metadata": {
        "id": "3ZG4XAdJe9Yb"
      },
      "execution_count": null,
      "outputs": []
    },
    {
      "cell_type": "code",
      "source": [
        "b = 45"
      ],
      "metadata": {
        "id": "ug0_uEpPi954"
      },
      "execution_count": null,
      "outputs": []
    },
    {
      "cell_type": "code",
      "source": [
        "addition = a + b"
      ],
      "metadata": {
        "id": "_haOkdGai67h"
      },
      "execution_count": null,
      "outputs": []
    },
    {
      "cell_type": "code",
      "source": [
        "print(addition)"
      ],
      "metadata": {
        "colab": {
          "base_uri": "https://localhost:8080/"
        },
        "id": "xNecTEcpiIqs",
        "outputId": "b85ecccc-d54b-4d25-d453-78b45892b716"
      },
      "execution_count": null,
      "outputs": [
        {
          "output_type": "stream",
          "name": "stdout",
          "text": [
            "175\n"
          ]
        }
      ]
    },
    {
      "cell_type": "code",
      "source": [
        " # python accepts the latest value in memory "
      ],
      "metadata": {
        "id": "-FCpVRCEirML"
      },
      "execution_count": null,
      "outputs": []
    },
    {
      "cell_type": "markdown",
      "source": [
        "a ............ 130\n",
        "              \n",
        "\n",
        "\n",
        "\n",
        "\n",
        "\n",
        "\n",
        "\n",
        "\n",
        "              300"
      ],
      "metadata": {
        "id": "bsX3Nb9SjR8x"
      }
    },
    {
      "cell_type": "code",
      "source": [
        "# python is case sensitive   capital is not equal small letter\n",
        "A = 780\n"
      ],
      "metadata": {
        "id": "fxfmMBNHj09B"
      },
      "execution_count": null,
      "outputs": []
    },
    {
      "cell_type": "code",
      "source": [
        " milk = \"345\""
      ],
      "metadata": {
        "id": "jAZ3y4CjkXFx"
      },
      "execution_count": null,
      "outputs": []
    },
    {
      "cell_type": "code",
      "source": [
        "print(int(milk))  # type conversion : converting a data type into another                     1. int to float type conversion is possible\n",
        "                     # 2. float to int ty.conv is possible   3. float to str is possible        4. str to int con is not possible\n",
        "                     # 5. str to float is not possible  6. numericalstring to float is possible "
      ],
      "metadata": {
        "colab": {
          "base_uri": "https://localhost:8080/"
        },
        "id": "7FNp2ebhkiBi",
        "outputId": "a82280e9-94d7-4df4-d6ca-9430e068e643"
      },
      "execution_count": null,
      "outputs": [
        {
          "output_type": "stream",
          "name": "stdout",
          "text": [
            "345\n"
          ]
        }
      ]
    },
    {
      "cell_type": "code",
      "source": [],
      "metadata": {
        "id": "LcxkWqCE1Zng"
      },
      "execution_count": null,
      "outputs": []
    },
    {
      "cell_type": "code",
      "source": [
        "a = 6+8j\n",
        "type(a)"
      ],
      "metadata": {
        "colab": {
          "base_uri": "https://localhost:8080/"
        },
        "id": "Er_gb5wjpQ7g",
        "outputId": "4e6354aa-f8f1-426e-a3bf-3ddc38f52e67"
      },
      "execution_count": null,
      "outputs": [
        {
          "output_type": "execute_result",
          "data": {
            "text/plain": [
              "complex"
            ]
          },
          "metadata": {},
          "execution_count": 54
        }
      ]
    },
    {
      "cell_type": "code",
      "source": [],
      "metadata": {
        "id": "DwZG1ZIj1cka"
      },
      "execution_count": null,
      "outputs": []
    },
    {
      "cell_type": "markdown",
      "source": [
        "17 - 05 - 2023\n",
        "  10   10    10            50567\n",
        "                                10  \n",
        "\n",
        "                                17\n",
        "                                  31"
      ],
      "metadata": {
        "id": "oYdcOE8fmwu2"
      }
    },
    {
      "cell_type": "code",
      "source": [
        " stu_name = str(input(\"enter student name:\"))\n",
        " stu_id = input(\"enter id value\")\n",
        " mark1 = float(input(\"enter mark1:   \"))\n",
        " mark2 = float(input(\"enter mark2:   \"))\n",
        " mark3 = float(input(\"enter mark3:   \"))\n",
        " total = mark1 +mark2+ mark3\n",
        " avg = total /3\n",
        " print(\"the average is \",avg)"
      ],
      "metadata": {
        "colab": {
          "base_uri": "https://localhost:8080/",
          "height": 408
        },
        "id": "jFb-uPPhpmj8",
        "outputId": "dc239266-27ea-49a3-e198-942f466e24a9"
      },
      "execution_count": null,
      "outputs": [
        {
          "output_type": "error",
          "ename": "KeyboardInterrupt",
          "evalue": "ignored",
          "traceback": [
            "\u001b[0;31m---------------------------------------------------------------------------\u001b[0m",
            "\u001b[0;31mKeyboardInterrupt\u001b[0m                         Traceback (most recent call last)",
            "\u001b[0;32m<ipython-input-61-be96cc682a72>\u001b[0m in \u001b[0;36m<cell line: 1>\u001b[0;34m()\u001b[0m\n\u001b[0;32m----> 1\u001b[0;31m \u001b[0mstu_name\u001b[0m \u001b[0;34m=\u001b[0m \u001b[0mstr\u001b[0m\u001b[0;34m(\u001b[0m\u001b[0minput\u001b[0m\u001b[0;34m(\u001b[0m\u001b[0;34m\"enter student name:\"\u001b[0m\u001b[0;34m)\u001b[0m\u001b[0;34m)\u001b[0m\u001b[0;34m\u001b[0m\u001b[0;34m\u001b[0m\u001b[0m\n\u001b[0m\u001b[1;32m      2\u001b[0m \u001b[0mstu_id\u001b[0m \u001b[0;34m=\u001b[0m \u001b[0minput\u001b[0m\u001b[0;34m(\u001b[0m\u001b[0;34m\"enter id value\"\u001b[0m\u001b[0;34m)\u001b[0m\u001b[0;34m\u001b[0m\u001b[0;34m\u001b[0m\u001b[0m\n\u001b[1;32m      3\u001b[0m \u001b[0mmark1\u001b[0m \u001b[0;34m=\u001b[0m \u001b[0mfloat\u001b[0m\u001b[0;34m(\u001b[0m\u001b[0minput\u001b[0m\u001b[0;34m(\u001b[0m\u001b[0;34m\"enter mark1:   \"\u001b[0m\u001b[0;34m)\u001b[0m\u001b[0;34m)\u001b[0m\u001b[0;34m\u001b[0m\u001b[0;34m\u001b[0m\u001b[0m\n\u001b[1;32m      4\u001b[0m \u001b[0mmark2\u001b[0m \u001b[0;34m=\u001b[0m \u001b[0mfloat\u001b[0m\u001b[0;34m(\u001b[0m\u001b[0minput\u001b[0m\u001b[0;34m(\u001b[0m\u001b[0;34m\"enter mark2:   \"\u001b[0m\u001b[0;34m)\u001b[0m\u001b[0;34m)\u001b[0m\u001b[0;34m\u001b[0m\u001b[0;34m\u001b[0m\u001b[0m\n\u001b[1;32m      5\u001b[0m \u001b[0mmark3\u001b[0m \u001b[0;34m=\u001b[0m \u001b[0mfloat\u001b[0m\u001b[0;34m(\u001b[0m\u001b[0minput\u001b[0m\u001b[0;34m(\u001b[0m\u001b[0;34m\"enter mark3:   \"\u001b[0m\u001b[0;34m)\u001b[0m\u001b[0;34m)\u001b[0m\u001b[0;34m\u001b[0m\u001b[0;34m\u001b[0m\u001b[0m\n",
            "\u001b[0;32m/usr/local/lib/python3.10/dist-packages/ipykernel/kernelbase.py\u001b[0m in \u001b[0;36mraw_input\u001b[0;34m(self, prompt)\u001b[0m\n\u001b[1;32m    849\u001b[0m                 \u001b[0;34m\"raw_input was called, but this frontend does not support input requests.\"\u001b[0m\u001b[0;34m\u001b[0m\u001b[0;34m\u001b[0m\u001b[0m\n\u001b[1;32m    850\u001b[0m             )\n\u001b[0;32m--> 851\u001b[0;31m         return self._input_request(str(prompt),\n\u001b[0m\u001b[1;32m    852\u001b[0m             \u001b[0mself\u001b[0m\u001b[0;34m.\u001b[0m\u001b[0m_parent_ident\u001b[0m\u001b[0;34m,\u001b[0m\u001b[0;34m\u001b[0m\u001b[0;34m\u001b[0m\u001b[0m\n\u001b[1;32m    853\u001b[0m             \u001b[0mself\u001b[0m\u001b[0;34m.\u001b[0m\u001b[0m_parent_header\u001b[0m\u001b[0;34m,\u001b[0m\u001b[0;34m\u001b[0m\u001b[0;34m\u001b[0m\u001b[0m\n",
            "\u001b[0;32m/usr/local/lib/python3.10/dist-packages/ipykernel/kernelbase.py\u001b[0m in \u001b[0;36m_input_request\u001b[0;34m(self, prompt, ident, parent, password)\u001b[0m\n\u001b[1;32m    893\u001b[0m             \u001b[0;32mexcept\u001b[0m \u001b[0mKeyboardInterrupt\u001b[0m\u001b[0;34m:\u001b[0m\u001b[0;34m\u001b[0m\u001b[0;34m\u001b[0m\u001b[0m\n\u001b[1;32m    894\u001b[0m                 \u001b[0;31m# re-raise KeyboardInterrupt, to truncate traceback\u001b[0m\u001b[0;34m\u001b[0m\u001b[0;34m\u001b[0m\u001b[0m\n\u001b[0;32m--> 895\u001b[0;31m                 \u001b[0;32mraise\u001b[0m \u001b[0mKeyboardInterrupt\u001b[0m\u001b[0;34m(\u001b[0m\u001b[0;34m\"Interrupted by user\"\u001b[0m\u001b[0;34m)\u001b[0m \u001b[0;32mfrom\u001b[0m \u001b[0;32mNone\u001b[0m\u001b[0;34m\u001b[0m\u001b[0;34m\u001b[0m\u001b[0m\n\u001b[0m\u001b[1;32m    896\u001b[0m             \u001b[0;32mexcept\u001b[0m \u001b[0mException\u001b[0m \u001b[0;32mas\u001b[0m \u001b[0me\u001b[0m\u001b[0;34m:\u001b[0m\u001b[0;34m\u001b[0m\u001b[0;34m\u001b[0m\u001b[0m\n\u001b[1;32m    897\u001b[0m                 \u001b[0mself\u001b[0m\u001b[0;34m.\u001b[0m\u001b[0mlog\u001b[0m\u001b[0;34m.\u001b[0m\u001b[0mwarning\u001b[0m\u001b[0;34m(\u001b[0m\u001b[0;34m\"Invalid Message:\"\u001b[0m\u001b[0;34m,\u001b[0m \u001b[0mexc_info\u001b[0m\u001b[0;34m=\u001b[0m\u001b[0;32mTrue\u001b[0m\u001b[0;34m)\u001b[0m\u001b[0;34m\u001b[0m\u001b[0;34m\u001b[0m\u001b[0m\n",
            "\u001b[0;31mKeyboardInterrupt\u001b[0m: Interrupted by user"
          ]
        }
      ]
    },
    {
      "cell_type": "code",
      "source": [
        "ramesh = 500\n",
        "kumar = 2000\n",
        "rajesh = 1000\n",
        "tour_amount = ramesh+kumar+rajesh\n",
        "aver_spending = tour_amount/3\n",
        "print(\"a person can spend rs:\",aver_spending)\n"
      ],
      "metadata": {
        "colab": {
          "base_uri": "https://localhost:8080/"
        },
        "id": "95QDHY6HuFn2",
        "outputId": "9140ef0b-67b4-44e3-975b-5ff6fb53f4e9"
      },
      "execution_count": null,
      "outputs": [
        {
          "output_type": "stream",
          "name": "stdout",
          "text": [
            "a person can spend rs: 1166.6666666666667\n"
          ]
        }
      ]
    },
    {
      "cell_type": "markdown",
      "source": [
        "eb_bill = const_fee + 5 * unit"
      ],
      "metadata": {
        "id": "ctHY8MGovwYr"
      }
    },
    {
      "cell_type": "code",
      "source": [
        "customer_name = str(input(\"enter customer name:\"))\n",
        "customer_eb_id = str(input(\"enter customer id\"))\n",
        "const_fee = 100\n",
        "units_of_usage =float(input(\"enter units value:\"))\n",
        "eb_bill = const_fee + 5 * units_of_usage\n",
        "print(\"the eb_bill for MR/Mrs:\",customer_name, \"is\",eb_bill)"
      ],
      "metadata": {
        "colab": {
          "base_uri": "https://localhost:8080/"
        },
        "id": "IAOLfhRiwj6P",
        "outputId": "6436eda3-2bb4-426f-fc6f-3bf73b12776e"
      },
      "execution_count": null,
      "outputs": [
        {
          "output_type": "stream",
          "name": "stdout",
          "text": [
            "enter customer name:sasi\n",
            "enter customer id789\n",
            "enter units value:456\n",
            "the eb_bill for MR/Mrs: sasi is 2380.0\n"
          ]
        }
      ]
    },
    {
      "cell_type": "code",
      "source": [
        "a = int(input(\"enter a value\"))\n",
        "b = int(input(\"enter b value\"))"
      ],
      "metadata": {
        "colab": {
          "base_uri": "https://localhost:8080/"
        },
        "id": "Pu7uRGuhzruu",
        "outputId": "e9ed9143-ee85-4631-dc3e-fb6abb7b8152"
      },
      "execution_count": null,
      "outputs": [
        {
          "name": "stdout",
          "output_type": "stream",
          "text": [
            "enter a value56\n",
            "enter b value8\n"
          ]
        }
      ]
    },
    {
      "cell_type": "code",
      "source": [
        "c = a*a + b*b +2*a*b"
      ],
      "metadata": {
        "id": "zcv09ggQyGIz"
      },
      "execution_count": null,
      "outputs": []
    },
    {
      "cell_type": "code",
      "source": [
        "print(c)"
      ],
      "metadata": {
        "colab": {
          "base_uri": "https://localhost:8080/"
        },
        "id": "gIhcxlk50ClB",
        "outputId": "fbb7a772-6c2c-43d7-e512-94febc8ff19d"
      },
      "execution_count": null,
      "outputs": [
        {
          "output_type": "stream",
          "name": "stdout",
          "text": [
            "4096\n"
          ]
        }
      ]
    },
    {
      "cell_type": "code",
      "source": [
        "#write a  python code to find a square root of a number\n",
        "num = int(input(\"num:\"))\n",
        "sqrt = num ** 0.5\n",
        "print(sqrt)"
      ],
      "metadata": {
        "colab": {
          "base_uri": "https://localhost:8080/"
        },
        "id": "0uh7WeTvzbpN",
        "outputId": "8f73f6d7-d276-49db-eae0-02ad4b51ee58"
      },
      "execution_count": null,
      "outputs": [
        {
          "output_type": "stream",
          "name": "stdout",
          "text": [
            "num:11\n",
            "3.3166247903554\n"
          ]
        }
      ]
    },
    {
      "cell_type": "code",
      "source": [
        "# data \n",
        "apple \n",
        "kjgjg67\n",
        "\n",
        "h\n",
        "x \n",
        "9\n",
        "6.7\n",
        "-5\n",
        "7%$#^%#^%#^%#"
      ],
      "metadata": {
        "id": "Ma_22lDW122Q"
      },
      "execution_count": null,
      "outputs": []
    },
    {
      "cell_type": "code",
      "source": [
        "# container \n",
        " variable \n",
        "\n",
        " a = 100\n",
        "\n",
        " a = a+100 \n",
        " a var = 100\n",
        "\n",
        " constant \n",
        "\n",
        "  universal constant = days = 7  98.4 3.14  365  30\n",
        "\n",
        "  local constant =  Si = 7 city 7.4 "
      ],
      "metadata": {
        "id": "CpNlHnom2_1O"
      },
      "execution_count": null,
      "outputs": []
    },
    {
      "cell_type": "code",
      "source": [
        "sasi = 100  # object(variable) = operator value(data)\n",
        "\n",
        "# numerical  575757\n",
        "# alphabetical asfdhgasfd \n",
        "# alphanumerical c100\n"
      ],
      "metadata": {
        "id": "_JWg2i6k4uHv"
      },
      "execution_count": null,
      "outputs": []
    },
    {
      "cell_type": "markdown",
      "source": [
        "primitive data types  or primary data type or inbuild - buildin "
      ],
      "metadata": {
        "id": "6leAAWSw8Bg7"
      }
    },
    {
      "cell_type": "code",
      "source": [
        "# numerical data = integer ( whole numbers ) 7 , 100, 56,67576575\n",
        "                  # float (decimal) 0.8,0.00, 8.9,-3.14\n",
        "                  # complex (real, imaginary) (7 + 5j)\n",
        "# alphabetical  string data type = \"india\" , 'india' ,\"687686\" , \"752\" , '7687'\n",
        "\n",
        "# boolean  = True , False   "
      ],
      "metadata": {
        "id": "Ig1K4L1Z5Y1l"
      },
      "execution_count": null,
      "outputs": []
    },
    {
      "cell_type": "code",
      "source": [
        "a = 79879\n",
        "b = 7678.767\n",
        "c ='chennai'\n",
        "d = True\n",
        "e = 3+8j"
      ],
      "metadata": {
        "id": "ttScvDcl8QQ2"
      },
      "execution_count": null,
      "outputs": []
    },
    {
      "cell_type": "code",
      "source": [
        "#a = 'ghgjh' egg = data  structure"
      ],
      "metadata": {
        "id": "9unqU15-9VUW"
      },
      "execution_count": null,
      "outputs": []
    },
    {
      "cell_type": "code",
      "source": [
        "type(d) "
      ],
      "metadata": {
        "colab": {
          "base_uri": "https://localhost:8080/"
        },
        "id": "c92qX0fV81Yg",
        "outputId": "9c42ce84-f45e-4a98-f71f-afd700a50d7f"
      },
      "execution_count": null,
      "outputs": [
        {
          "output_type": "execute_result",
          "data": {
            "text/plain": [
              "bool"
            ]
          },
          "metadata": {},
          "execution_count": 4
        }
      ]
    },
    {
      "cell_type": "code",
      "source": [
        "s = 68768\n",
        "t = 89.7\n",
        "addit =  s + t\n",
        "print(addit)   # exception handling / error management"
      ],
      "metadata": {
        "colab": {
          "base_uri": "https://localhost:8080/"
        },
        "id": "wJn0cN3S-mjD",
        "outputId": "8ae2db1c-4d37-42a6-c5a9-9de8cecea403"
      },
      "execution_count": null,
      "outputs": [
        {
          "output_type": "stream",
          "name": "stdout",
          "text": [
            "68857.7\n"
          ]
        }
      ]
    },
    {
      "cell_type": "code",
      "source": [
        "# getting the value on run time \n",
        "\n",
        "s = int(input(\"enetr s value:\"))\n",
        "t = float(input(\"enetr the t value:\"))\n",
        "addit = s + t\n",
        "print(addit)\n"
      ],
      "metadata": {
        "colab": {
          "base_uri": "https://localhost:8080/"
        },
        "id": "sDLAYVaXAG-f",
        "outputId": "0390032d-0620-487b-e5f8-e97160eb6a43"
      },
      "execution_count": null,
      "outputs": [
        {
          "output_type": "stream",
          "name": "stdout",
          "text": [
            "enetr s value:6\n",
            "enetr the t value:7\n",
            "13.0\n"
          ]
        }
      ]
    },
    {
      "cell_type": "code",
      "source": [
        "s"
      ],
      "metadata": {
        "colab": {
          "base_uri": "https://localhost:8080/"
        },
        "id": "UP0QLprpB9io",
        "outputId": "59b399e4-5fc3-40e3-88e1-8c2e62e6311c"
      },
      "execution_count": null,
      "outputs": [
        {
          "output_type": "execute_result",
          "data": {
            "text/plain": [
              "68768"
            ]
          },
          "metadata": {},
          "execution_count": 15
        }
      ]
    },
    {
      "cell_type": "code",
      "source": [
        "8"
      ],
      "metadata": {
        "colab": {
          "base_uri": "https://localhost:8080/"
        },
        "id": "KoQNRRiLC6pE",
        "outputId": "ebc897d2-6dfc-4081-f3f8-7c44811cfe9d"
      },
      "execution_count": null,
      "outputs": [
        {
          "output_type": "stream",
          "name": "stdout",
          "text": [
            "enetr student name:kjfhksjd\n",
            "enetr the id num:hdjksh\n",
            "enetr mark1 value:78\n",
            "enetr mark2 value:68\n",
            "enetr mark3 value:87\n",
            "enetr mark4 value:78\n",
            "hi kjfhksjd hope your id is: hdjksh final exam score is: 396.0 the average you holds: 79.2\n"
          ]
        }
      ]
    },
    {
      "cell_type": "markdown",
      "source": [
        "TYpe conversion / data type conversion"
      ],
      "metadata": {
        "id": "geN9T5pCGC8j"
      }
    },
    {
      "cell_type": "code",
      "source": [
        "s = '90.9'\n",
        "print(int(s))  # int to float is possible , float to int is possible # string to int / float is not possible"
      ],
      "metadata": {
        "colab": {
          "base_uri": "https://localhost:8080/",
          "height": 187
        },
        "id": "6uH7mtk2GHK0",
        "outputId": "f3fa51ae-3901-426f-f19c-cde499bdafd7"
      },
      "execution_count": null,
      "outputs": [
        {
          "output_type": "error",
          "ename": "ValueError",
          "evalue": "ignored",
          "traceback": [
            "\u001b[0;31m---------------------------------------------------------------------------\u001b[0m",
            "\u001b[0;31mValueError\u001b[0m                                Traceback (most recent call last)",
            "\u001b[0;32m<ipython-input-24-31b7359d5062>\u001b[0m in \u001b[0;36m<cell line: 2>\u001b[0;34m()\u001b[0m\n\u001b[1;32m      1\u001b[0m \u001b[0ms\u001b[0m \u001b[0;34m=\u001b[0m \u001b[0;34m'90.9'\u001b[0m\u001b[0;34m\u001b[0m\u001b[0;34m\u001b[0m\u001b[0m\n\u001b[0;32m----> 2\u001b[0;31m \u001b[0mprint\u001b[0m\u001b[0;34m(\u001b[0m\u001b[0mint\u001b[0m\u001b[0;34m(\u001b[0m\u001b[0ms\u001b[0m\u001b[0;34m)\u001b[0m\u001b[0;34m)\u001b[0m  \u001b[0;31m# int to float is possible , float to int is possible\u001b[0m\u001b[0;34m\u001b[0m\u001b[0;34m\u001b[0m\u001b[0m\n\u001b[0m",
            "\u001b[0;31mValueError\u001b[0m: invalid literal for int() with base 10: '90.9'"
          ]
        }
      ]
    },
    {
      "cell_type": "code",
      "source": [
        "8 / 6 / 2023   0 - 7   11 = 3  700\n",
        "                                  10\n",
        "                            8\n",
        " 10  10     10"
      ],
      "metadata": {
        "id": "DoCL14TKGuPG"
      },
      "execution_count": null,
      "outputs": []
    },
    {
      "cell_type": "code",
      "source": [
        "s = int(input(\"s \"))  # while assinging input is not possible to replace a integer by float "
      ],
      "metadata": {
        "colab": {
          "base_uri": "https://localhost:8080/",
          "height": 187
        },
        "id": "yXepcm0DIT9T",
        "outputId": "0977197c-a70f-48d9-fd1a-bf52ce6b57e3"
      },
      "execution_count": null,
      "outputs": [
        {
          "name": "stdout",
          "output_type": "stream",
          "text": [
            "s 67.9\n"
          ]
        },
        {
          "output_type": "error",
          "ename": "ValueError",
          "evalue": "ignored",
          "traceback": [
            "\u001b[0;31m---------------------------------------------------------------------------\u001b[0m",
            "\u001b[0;31mValueError\u001b[0m                                Traceback (most recent call last)",
            "\u001b[0;32m<ipython-input-25-558745838433>\u001b[0m in \u001b[0;36m<cell line: 1>\u001b[0;34m()\u001b[0m\n\u001b[0;32m----> 1\u001b[0;31m \u001b[0ms\u001b[0m \u001b[0;34m=\u001b[0m \u001b[0mint\u001b[0m\u001b[0;34m(\u001b[0m\u001b[0minput\u001b[0m\u001b[0;34m(\u001b[0m\u001b[0;34m\"s \"\u001b[0m\u001b[0;34m)\u001b[0m\u001b[0;34m)\u001b[0m\u001b[0;34m\u001b[0m\u001b[0;34m\u001b[0m\u001b[0m\n\u001b[0m",
            "\u001b[0;31mValueError\u001b[0m: invalid literal for int() with base 10: '67.9'"
          ]
        }
      ]
    }
  ]
}