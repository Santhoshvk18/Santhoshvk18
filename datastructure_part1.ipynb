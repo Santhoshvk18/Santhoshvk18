{
 "cells": [
  {
   "cell_type": "code",
   "execution_count": 1,
   "metadata": {
    "id": "hXTE1TCUgE2Z"
   },
   "outputs": [],
   "source": [
    "#list"
   ]
  },
  {
   "cell_type": "markdown",
   "metadata": {
    "id": "EW1r8pTTgO-I"
   },
   "source": [
    "1. ordered\n",
    "2. mutable : editable / changable\n",
    "3. indexable\n",
    "4. accepet data types"
   ]
  },
  {
   "cell_type": "code",
   "execution_count": 2,
   "metadata": {
    "id": "fyioxhpchdkL"
   },
   "outputs": [],
   "source": [
    "a = [2,9.8,'india',True,8979] # create a list"
   ]
  },
  {
   "cell_type": "code",
   "execution_count": 3,
   "metadata": {
    "colab": {
     "base_uri": "https://localhost:8080/"
    },
    "id": "wksfmu0Ihsso",
    "outputId": "92dc9eec-8d20-42a0-fa7c-2b4f70e605cb"
   },
   "outputs": [
    {
     "data": {
      "text/plain": [
       "list"
      ]
     },
     "execution_count": 3,
     "metadata": {},
     "output_type": "execute_result"
    }
   ],
   "source": [
    "type(a)"
   ]
  },
  {
   "cell_type": "code",
   "execution_count": 4,
   "metadata": {
    "colab": {
     "base_uri": "https://localhost:8080/"
    },
    "id": "r71rQPKqh6f2",
    "outputId": "3b093c23-13cb-48b0-da4b-bd78a748469c"
   },
   "outputs": [
    {
     "data": {
      "text/plain": [
       "5"
      ]
     },
     "execution_count": 4,
     "metadata": {},
     "output_type": "execute_result"
    }
   ],
   "source": [
    "len(a)"
   ]
  },
  {
   "cell_type": "code",
   "execution_count": 7,
   "metadata": {
    "colab": {
     "base_uri": "https://localhost:8080/"
    },
    "id": "cTV4mfQQiALg",
    "outputId": "2f4b98fe-2191-41af-cc8e-fa213dc65afc"
   },
   "outputs": [
    {
     "data": {
      "text/plain": [
       "8979"
      ]
     },
     "execution_count": 7,
     "metadata": {},
     "output_type": "execute_result"
    }
   ],
   "source": [
    "a[-1] # positive index starts from left side counts from zero  0,1,2 # negative indexing starts from  -1"
   ]
  },
  {
   "cell_type": "code",
   "execution_count": 13,
   "metadata": {
    "colab": {
     "base_uri": "https://localhost:8080/"
    },
    "id": "xnWYARb9jJ6G",
    "outputId": "ebc2b6d8-2a57-4cda-aec7-5aab1768784e"
   },
   "outputs": [
    {
     "data": {
      "text/plain": [
       "[9.8, 'india', True]"
      ]
     },
     "execution_count": 13,
     "metadata": {},
     "output_type": "execute_result"
    }
   ],
   "source": [
    "a[1:4] # start : "
   ]
  },
  {
   "cell_type": "code",
   "execution_count": 14,
   "metadata": {
    "colab": {
     "base_uri": "https://localhost:8080/"
    },
    "id": "CR1iOxGrkPIR",
    "outputId": "5d12523d-8b24-4efa-eebe-2543e929cce2"
   },
   "outputs": [
    {
     "data": {
      "text/plain": [
       "[2, 9.8, 'india', True, 8979]"
      ]
     },
     "execution_count": 14,
     "metadata": {},
     "output_type": "execute_result"
    }
   ],
   "source": [
    "a"
   ]
  },
  {
   "cell_type": "code",
   "execution_count": 16,
   "metadata": {
    "colab": {
     "base_uri": "https://localhost:8080/"
    },
    "id": "mvkhGiKMkTjc",
    "outputId": "109325c8-a73b-4611-bb0a-988514de2354"
   },
   "outputs": [
    {
     "data": {
      "text/plain": [
       "[2, 9.8, 'india', True, 8979]"
      ]
     },
     "execution_count": 16,
     "metadata": {},
     "output_type": "execute_result"
    }
   ],
   "source": [
    "a[0:5]"
   ]
  },
  {
   "cell_type": "code",
   "execution_count": 17,
   "metadata": {
    "id": "oa4lyRpHk3XA"
   },
   "outputs": [],
   "source": [
    "# mutable: add, delete, edit"
   ]
  },
  {
   "cell_type": "code",
   "execution_count": 20,
   "metadata": {
    "id": "ge2kgFX9lD8-"
   },
   "outputs": [],
   "source": [
    "b = [2,9.8, 'india',True,8979]"
   ]
  },
  {
   "cell_type": "code",
   "execution_count": 21,
   "metadata": {
    "colab": {
     "base_uri": "https://localhost:8080/"
    },
    "id": "W8CUmfnAlKN7",
    "outputId": "6d32df93-595a-47f8-d4f9-307778b0c7dd"
   },
   "outputs": [
    {
     "data": {
      "text/plain": [
       "True"
      ]
     },
     "execution_count": 21,
     "metadata": {},
     "output_type": "execute_result"
    }
   ],
   "source": [
    "a==b"
   ]
  },
  {
   "cell_type": "code",
   "execution_count": 22,
   "metadata": {
    "id": "3BM4AetDlfYx"
   },
   "outputs": [],
   "source": [
    "# add an element to a list \n",
    "a.append([9,6.7])\n",
    "\n"
   ]
  },
  {
   "cell_type": "code",
   "execution_count": 25,
   "metadata": {
    "id": "PzCUUiVyl9ZX"
   },
   "outputs": [],
   "source": [
    "a.append(8)"
   ]
  },
  {
   "cell_type": "code",
   "execution_count": 26,
   "metadata": {
    "colab": {
     "base_uri": "https://localhost:8080/"
    },
    "id": "vYRuvy-vl316",
    "outputId": "4a422f40-658b-48e7-83b8-e475055e1926"
   },
   "outputs": [
    {
     "data": {
      "text/plain": [
       "[2, 9.8, 'india', True, 8979, [9, 6.7], 8]"
      ]
     },
     "execution_count": 26,
     "metadata": {},
     "output_type": "execute_result"
    }
   ],
   "source": [
    "a"
   ]
  },
  {
   "cell_type": "code",
   "execution_count": 27,
   "metadata": {
    "id": "pQF_ekoJm7-w"
   },
   "outputs": [],
   "source": [
    "a.extend([5,5757])"
   ]
  },
  {
   "cell_type": "code",
   "execution_count": 31,
   "metadata": {
    "id": "C8LMvCTpnbWS"
   },
   "outputs": [],
   "source": [
    "a.extend([8])"
   ]
  },
  {
   "cell_type": "code",
   "execution_count": 32,
   "metadata": {
    "colab": {
     "base_uri": "https://localhost:8080/"
    },
    "id": "dU8izEexnJ1g",
    "outputId": "f205e3fd-4358-4bff-a4c7-be779df90494"
   },
   "outputs": [
    {
     "data": {
      "text/plain": [
       "[2, 9.8, 'india', True, 8979, [9, 6.7], 8, 5, 5757, 8]"
      ]
     },
     "execution_count": 32,
     "metadata": {},
     "output_type": "execute_result"
    }
   ],
   "source": [
    "a"
   ]
  },
  {
   "cell_type": "code",
   "execution_count": 33,
   "metadata": {
    "id": "BOCPaO7noRGd"
   },
   "outputs": [],
   "source": [
    "a.append(86876)"
   ]
  },
  {
   "cell_type": "code",
   "execution_count": 34,
   "metadata": {
    "colab": {
     "base_uri": "https://localhost:8080/"
    },
    "id": "itNRx-pcoTiC",
    "outputId": "a24a7a36-e6ea-4eae-c44a-4cd6d9dcbf5e"
   },
   "outputs": [
    {
     "data": {
      "text/plain": [
       "[2, 9.8, 'india', True, 8979, [9, 6.7], 8, 5, 5757, 8, 86876]"
      ]
     },
     "execution_count": 34,
     "metadata": {},
     "output_type": "execute_result"
    }
   ],
   "source": [
    "a"
   ]
  },
  {
   "cell_type": "code",
   "execution_count": 36,
   "metadata": {
    "id": "k98RB66soW3Q"
   },
   "outputs": [],
   "source": [
    "a.extend([6])"
   ]
  },
  {
   "cell_type": "code",
   "execution_count": 37,
   "metadata": {
    "colab": {
     "base_uri": "https://localhost:8080/"
    },
    "id": "uJ6I-n5Modeu",
    "outputId": "2133c260-cfe6-4d1d-f81a-2e7ff58cfcb3"
   },
   "outputs": [
    {
     "data": {
      "text/plain": [
       "[2, 9.8, 'india', True, 8979, [9, 6.7], 8, 5, 5757, 8, 86876, 6]"
      ]
     },
     "execution_count": 37,
     "metadata": {},
     "output_type": "execute_result"
    }
   ],
   "source": [
    "a"
   ]
  },
  {
   "cell_type": "code",
   "execution_count": 38,
   "metadata": {
    "id": "Zc_lGQo0oljB"
   },
   "outputs": [],
   "source": [
    "a.append([55,78,78])"
   ]
  },
  {
   "cell_type": "code",
   "execution_count": 40,
   "metadata": {
    "id": "1-6HsioWopYk"
   },
   "outputs": [],
   "source": [
    "a.insert(2,\"hi hello\")"
   ]
  },
  {
   "cell_type": "code",
   "execution_count": 42,
   "metadata": {
    "id": "-fwXDrvUpNpR"
   },
   "outputs": [],
   "source": [
    "a.insert(4,[\"jhgjhsgdj\"])"
   ]
  },
  {
   "cell_type": "code",
   "execution_count": 43,
   "metadata": {
    "colab": {
     "base_uri": "https://localhost:8080/"
    },
    "id": "yizPKxIho-y3",
    "outputId": "36678ff3-c45b-475d-f448-947c159a5da6"
   },
   "outputs": [
    {
     "data": {
      "text/plain": [
       "[2,\n",
       " 9.8,\n",
       " 'hi hello',\n",
       " 'india',\n",
       " ['jhgjhsgdj'],\n",
       " True,\n",
       " 8979,\n",
       " [9, 6.7],\n",
       " 8,\n",
       " 5,\n",
       " 5757,\n",
       " 8,\n",
       " 86876,\n",
       " 6,\n",
       " [55, 78, 78]]"
      ]
     },
     "execution_count": 43,
     "metadata": {},
     "output_type": "execute_result"
    }
   ],
   "source": [
    "a"
   ]
  },
  {
   "cell_type": "code",
   "execution_count": 46,
   "metadata": {
    "colab": {
     "base_uri": "https://localhost:8080/"
    },
    "id": "F0PEYrcGpyVb",
    "outputId": "6431a687-4b8a-49fc-eec2-d8914a75ac6f"
   },
   "outputs": [
    {
     "data": {
      "text/plain": [
       "6"
      ]
     },
     "execution_count": 46,
     "metadata": {},
     "output_type": "execute_result"
    }
   ],
   "source": [
    "a.pop() # delete the last indexed element "
   ]
  },
  {
   "cell_type": "code",
   "execution_count": 47,
   "metadata": {
    "colab": {
     "base_uri": "https://localhost:8080/"
    },
    "id": "ktVcxc5sp-Fq",
    "outputId": "d322260b-5b2e-4b74-c82b-f39e06597aff"
   },
   "outputs": [
    {
     "data": {
      "text/plain": [
       "[2,\n",
       " 9.8,\n",
       " 'hi hello',\n",
       " 'india',\n",
       " ['jhgjhsgdj'],\n",
       " True,\n",
       " 8979,\n",
       " [9, 6.7],\n",
       " 8,\n",
       " 5,\n",
       " 5757,\n",
       " 8,\n",
       " 86876]"
      ]
     },
     "execution_count": 47,
     "metadata": {},
     "output_type": "execute_result"
    }
   ],
   "source": [
    "a"
   ]
  },
  {
   "cell_type": "code",
   "execution_count": 52,
   "metadata": {
    "id": "nI788eCnqHfe"
   },
   "outputs": [],
   "source": [
    "a.remove('hi hello')"
   ]
  },
  {
   "cell_type": "code",
   "execution_count": 54,
   "metadata": {
    "colab": {
     "base_uri": "https://localhost:8080/"
    },
    "id": "F_m-0-2iqMot",
    "outputId": "a90b1480-9332-4112-c017-ce14621b665e"
   },
   "outputs": [
    {
     "data": {
      "text/plain": [
       "[2, 'india', ['jhgjhsgdj'], 8979, [9, 6.7], 8, 5, 5757, 8, 86876]"
      ]
     },
     "execution_count": 54,
     "metadata": {},
     "output_type": "execute_result"
    }
   ],
   "source": [
    "a"
   ]
  },
  {
   "cell_type": "code",
   "execution_count": 55,
   "metadata": {
    "id": "zqus-1F7qvJ8"
   },
   "outputs": [],
   "source": [
    "a[2]=100 # list updation "
   ]
  },
  {
   "cell_type": "code",
   "execution_count": 56,
   "metadata": {
    "colab": {
     "base_uri": "https://localhost:8080/"
    },
    "id": "YBBXTxl_qxvQ",
    "outputId": "5966c716-b169-4b4b-eaa5-9afbc7635f96"
   },
   "outputs": [
    {
     "data": {
      "text/plain": [
       "[2, 'india', 100, 8979, [9, 6.7], 8, 5, 5757, 8, 86876]"
      ]
     },
     "execution_count": 56,
     "metadata": {},
     "output_type": "execute_result"
    }
   ],
   "source": [
    "a"
   ]
  },
  {
   "cell_type": "code",
   "execution_count": 59,
   "metadata": {
    "id": "i6hSEUNqq4Yv"
   },
   "outputs": [],
   "source": [
    "a[1:5]]=[90,67,45,67,78] # updating and replacing the values "
   ]
  },
  {
   "cell_type": "code",
   "execution_count": 58,
   "metadata": {
    "colab": {
     "base_uri": "https://localhost:8080/"
    },
    "id": "5_HMBCqgq-uV",
    "outputId": "f3e8bf28-7646-4069-f070-1ee4530a6905"
   },
   "outputs": [
    {
     "data": {
      "text/plain": [
       "[2, 90, 67, 45, 67, 78, 8, 5, 5757, 8, 86876]"
      ]
     },
     "execution_count": 58,
     "metadata": {},
     "output_type": "execute_result"
    }
   ],
   "source": [
    "a"
   ]
  },
  {
   "cell_type": "code",
   "execution_count": 60,
   "metadata": {
    "id": "T6h73YrlrTi2"
   },
   "outputs": [],
   "source": [
    "a[-1] = [\"bye\"]"
   ]
  },
  {
   "cell_type": "code",
   "execution_count": 61,
   "metadata": {
    "colab": {
     "base_uri": "https://localhost:8080/"
    },
    "id": "0zJbpGgMrTAO",
    "outputId": "37fbca84-703d-4ae0-ef86-0ad757639240"
   },
   "outputs": [
    {
     "data": {
      "text/plain": [
       "[2, 90, 67, 45, 67, 78, 78, 8, 5, 5757, 8, ['bye']]"
      ]
     },
     "execution_count": 61,
     "metadata": {},
     "output_type": "execute_result"
    }
   ],
   "source": [
    "a"
   ]
  },
  {
   "cell_type": "markdown",
   "metadata": {
    "id": "5tFZRfpzrfxj"
   },
   "source": [
    "[],index a[5], slicing a[1:4], insert , extend , append , pop, remove , updation and replacement"
   ]
  },
  {
   "cell_type": "code",
   "execution_count": 62,
   "metadata": {
    "colab": {
     "base_uri": "https://localhost:8080/"
    },
    "id": "A3RPekmXr5dD",
    "outputId": "a242398b-9de2-47a2-c8ec-94c81289d66c"
   },
   "outputs": [
    {
     "data": {
      "text/plain": [
       "[2, 90, 67, 45, 67, 78, 78, 8, 5, 5757, 8, ['bye']]"
      ]
     },
     "execution_count": 62,
     "metadata": {},
     "output_type": "execute_result"
    }
   ],
   "source": [
    "a"
   ]
  },
  {
   "cell_type": "code",
   "execution_count": 65,
   "metadata": {
    "id": "6faSVuvAsQGZ"
   },
   "outputs": [],
   "source": [
    "a[1:5] = [143,175]"
   ]
  },
  {
   "cell_type": "code",
   "execution_count": 66,
   "metadata": {
    "colab": {
     "base_uri": "https://localhost:8080/"
    },
    "id": "bHvzLoWtsWNK",
    "outputId": "daf882ee-e755-49e9-fb6a-6ef1131deb5f"
   },
   "outputs": [
    {
     "data": {
      "text/plain": [
       "[2, 143, 175, 78, 78, 8, 5, 5757, 8, ['bye']]"
      ]
     },
     "execution_count": 66,
     "metadata": {},
     "output_type": "execute_result"
    }
   ],
   "source": [
    "a"
   ]
  },
  {
   "cell_type": "code",
   "execution_count": 69,
   "metadata": {
    "id": "_d5MYy9HssDG"
   },
   "outputs": [],
   "source": [
    "s = a *3 # listt repeatation"
   ]
  },
  {
   "cell_type": "code",
   "execution_count": 68,
   "metadata": {
    "colab": {
     "base_uri": "https://localhost:8080/"
    },
    "id": "B3OnuQ4_svmb",
    "outputId": "b4856b2a-1227-4ecb-a6a6-ba3ca266c427"
   },
   "outputs": [
    {
     "data": {
      "text/plain": [
       "[2,\n",
       " 143,\n",
       " 175,\n",
       " 78,\n",
       " 78,\n",
       " 8,\n",
       " 5,\n",
       " 5757,\n",
       " 8,\n",
       " ['bye'],\n",
       " 2,\n",
       " 143,\n",
       " 175,\n",
       " 78,\n",
       " 78,\n",
       " 8,\n",
       " 5,\n",
       " 5757,\n",
       " 8,\n",
       " ['bye'],\n",
       " 2,\n",
       " 143,\n",
       " 175,\n",
       " 78,\n",
       " 78,\n",
       " 8,\n",
       " 5,\n",
       " 5757,\n",
       " 8,\n",
       " ['bye']]"
      ]
     },
     "execution_count": 68,
     "metadata": {},
     "output_type": "execute_result"
    }
   ],
   "source": [
    "s"
   ]
  },
  {
   "cell_type": "code",
   "execution_count": 73,
   "metadata": {
    "id": "GddPIxTrs61G"
   },
   "outputs": [],
   "source": [
    "#list concatenation \n",
    "\n",
    "q = [2,3,4,5,6]\n",
    "r = [4,6,7]"
   ]
  },
  {
   "cell_type": "code",
   "execution_count": 74,
   "metadata": {
    "id": "BzDppQactGfX"
   },
   "outputs": [],
   "source": [
    "w = q+r"
   ]
  },
  {
   "cell_type": "code",
   "execution_count": 75,
   "metadata": {
    "colab": {
     "base_uri": "https://localhost:8080/"
    },
    "id": "d-4MLXM6tJqC",
    "outputId": "c5b5c854-dae1-4194-e948-960f596bc7ea"
   },
   "outputs": [
    {
     "data": {
      "text/plain": [
       "[2, 3, 4, 5, 6, 4, 6, 7]"
      ]
     },
     "execution_count": 75,
     "metadata": {},
     "output_type": "execute_result"
    }
   ],
   "source": [
    "w"
   ]
  }
 ],
 "metadata": {
  "colab": {
   "provenance": []
  },
  "kernelspec": {
   "display_name": "Python 3 (ipykernel)",
   "language": "python",
   "name": "python3"
  },
  "language_info": {
   "codemirror_mode": {
    "name": "ipython",
    "version": 3
   },
   "file_extension": ".py",
   "mimetype": "text/x-python",
   "name": "python",
   "nbconvert_exporter": "python",
   "pygments_lexer": "ipython3",
   "version": "3.9.12"
  }
 },
 "nbformat": 4,
 "nbformat_minor": 1
}
